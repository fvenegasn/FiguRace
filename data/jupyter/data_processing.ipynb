{
 "cells": [
  {
   "cell_type": "markdown",
   "metadata": {},
   "source": [
    "# Análisis de datos y estadísticas"
   ]
  },
  {
   "cell_type": "markdown",
   "metadata": {},
   "source": [
    "#### Importación de módulos a utilziar"
   ]
  },
  {
   "cell_type": "code",
   "execution_count": 109,
   "metadata": {},
   "outputs": [],
   "source": [
    "import os\n",
    "import pandas as pd\n",
    "from matplotlib import pyplot as plt\n",
    "import time\n",
    "from collections import Counter"
   ]
  },
  {
   "cell_type": "markdown",
   "metadata": {},
   "source": [
    "#### Apertura del archivo a procesar"
   ]
  },
  {
   "cell_type": "code",
   "execution_count": 110,
   "metadata": {},
   "outputs": [],
   "source": [
    "csv = \"informacion_partidas.csv\"\n",
    "path = os.path.join(os.getcwd(),'..','csv',csv)\n",
    "\n",
    "try:\n",
    "    df=pd.read_csv(path)\n",
    "\n",
    "except FileNotFoundError:\n",
    "    print(f\"No se encuentra el dataset a procesar {csv}\")"
   ]
  },
  {
   "cell_type": "markdown",
   "metadata": {},
   "source": [
    "#### Top 10 de palabras que se encuentran primero de todas las partidas"
   ]
  },
  {
   "cell_type": "code",
   "execution_count": null,
   "metadata": {},
   "outputs": [],
   "source": []
  },
  {
   "cell_type": "markdown",
   "metadata": {},
   "source": [
    "#### Módulo para gráficos de torta"
   ]
  },
  {
   "cell_type": "code",
   "execution_count": 19,
   "metadata": {},
   "outputs": [],
   "source": [
    "def make_pie_chart(data: pd.Series, labels: list, title:str) -> plt.pie:\n",
    "    \"\"\"\n",
    "    funcion 'make_pie_chart'\n",
    "\n",
    "    Def:\n",
    "        Dados ciertos parámetros, devuelve un gráfico de tortas con sus respectivas proporciones, leyendas, porcentajes y título.\n",
    "    Args:\n",
    "        data (pd.Series): contiene una Serie a la que se le aplicó el criterio .groupby.size()\n",
    "        labels (list): es una lista que contiene las claves del parámetro 'data'\n",
    "        title (str): es una cadena que será el título del gráfico\n",
    "    \"\"\"\n",
    "    plt.pie(data, autopct='%1.1f%%', shadow=True)\n",
    "    plt.legend(labels)\n",
    "    plt.title(title)\n",
    "    plt.axis('equal')\n",
    "    plt.tight_layout()\n",
    "    plt.show()"
   ]
  },
  {
   "cell_type": "markdown",
   "metadata": {},
   "source": [
    "#### Módulo para gráficos de barras"
   ]
  },
  {
   "cell_type": "code",
   "execution_count": 114,
   "metadata": {},
   "outputs": [],
   "source": [
    "def make_bar_chart(valores_x:list,valores_y:list, title,y_label,x_label:str):\n",
    "    \"\"\"\n",
    "    funcion 'make_bar_chart'\n",
    "\n",
    "    Def:\n",
    "        Dados ciertos parámetros, devuelve un gráfico de barras con sus respectivas proporciones, leyendas, porcentajes y título.\n",
    "    Args:\n",
    "        valores_x(list): son los valores que van en el eje x del gráfico\n",
    "        valores_y(list): son los valores que van en el eje y del gráfico\n",
    "        title (str): es una cadena que será el título del gráfico\n",
    "        y_label(str): es la etiqueta de los valores del eje y \n",
    "        x_label(str): es la etiqueta de los valores del eje x\n",
    "        range(int): valor maximo para el eje y\n",
    "    \"\"\"\n",
    "    \n",
    "    def agregar_valores(valores:list):\n",
    "        \"\"\"\n",
    "        Def:\n",
    "            Le agrega al gráfico los valores de las barras\n",
    "        Args:\n",
    "            valores(list): lista de los valores\n",
    "        \"\"\"\n",
    "        for i in range(len(valores)):\n",
    "            #plt.text recibe x,y,s. En la cordenada (x,y) agrega el valor s\n",
    "            plt.text(i,valores[i],valores[i],ha='center')\n",
    "\n",
    "    plt.title(title)\n",
    "    plt.xlabel(x_label)\n",
    "    plt.ylabel(y_label)\n",
    "    agregar_valores(valores_y)\n",
    "    plt.bar(valores_x,valores_y)"
   ]
  },
  {
   "cell_type": "markdown",
   "metadata": {},
   "source": [
    "#### Gráfico que muestre el porcentaje de partidas por estado."
   ]
  },
  {
   "cell_type": "code",
   "execution_count": null,
   "metadata": {},
   "outputs": [],
   "source": [
    "# uso de matplotlib e informacion_partidas.csv//columna[2] \"Estado\"\n",
    "\n",
    "#ok, finalizada, error, -, timeout, cancelada, partidas sin evento fin\n",
    "\n",
    "estado = df[(df[\"Estado\"] != \"ok\") & (df[\"Estado\"] != \"-\")]\n",
    "estado = estado.groupby([\"Estado\"]).size()\n",
    "etiquetas = [x for x in estado.keys()]\n",
    "make_pie_chart(estado, etiquetas, \"Partidas por estado\")\n"
   ]
  },
  {
   "cell_type": "markdown",
   "metadata": {},
   "source": [
    "#### Gráfico que muestre el porcentaje de partidas finalizadas según género"
   ]
  },
  {
   "cell_type": "code",
   "execution_count": null,
   "metadata": {},
   "outputs": [],
   "source": [
    "# uso de matplotlib e informacion_partidas.csv//columna[8] \"Genero\"\n",
    "#mismo procesamiento que gráfico anterior, cambia columna\n",
    "\n",
    "genero = df[df[\"Estado\"] == \"finalizada\"]\n",
    "genero = genero.groupby([\"Genero\"]).size()\n",
    "etiquetas = [x for x in genero.keys()]\n",
    "make_pie_chart(genero, etiquetas, \"Partidas finalizadas por género\")"
   ]
  },
  {
   "cell_type": "markdown",
   "metadata": {},
   "source": [
    "#### Gráfico que muestre el porcentaje de partidas finalizadas según dataset."
   ]
  },
  {
   "cell_type": "code",
   "execution_count": null,
   "metadata": {},
   "outputs": [],
   "source": [
    "# uso de matplotlib e informacion_partidas.csv//columna[9] \"Dataset\"\n",
    "\n",
    "dataset = df[df[\"Estado\"] == \"finalizada\"]\n",
    "dataset = dataset.groupby([\"Dataset\"]).size()\n",
    "etiquetas = [x for x in dataset.keys()]\n",
    "make_pie_chart(dataset, etiquetas, \"Partidas finalizadas por dataset\")"
   ]
  },
  {
   "cell_type": "markdown",
   "metadata": {},
   "source": [
    "#### Gráfico que muestre el procentaje de partidas finalizadas según nivel"
   ]
  },
  {
   "cell_type": "code",
   "execution_count": null,
   "metadata": {},
   "outputs": [],
   "source": [
    "# uso de matplotlib e informacion_partidas.csv//columna[7] \"Nivel\"\n",
    "#mismo procesamiento que gráfico anterior, cambia columna\n",
    "\n",
    "dificultad = df[df[\"Estado\"] == \"finalizada\"]\n",
    "dificultad = dificultad.groupby([\"Nivel\"]).size()\n",
    "etiquetas = [x for x in dificultad.keys()]\n",
    "make_pie_chart (dificultad, etiquetas, \"Partidas finalizadas por nivel\")"
   ]
  },
  {
   "cell_type": "markdown",
   "metadata": {},
   "source": [
    "#### Duración total de la partida"
   ]
  },
  {
   "cell_type": "code",
   "execution_count": null,
   "metadata": {},
   "outputs": [],
   "source": [
    "# no estaría entendiendo si acá deberíamos implementar un gráfico, una suma total de todas las duraciones o cómo hacer este procesamiento."
   ]
  },
  {
   "cell_type": "markdown",
   "metadata": {},
   "source": [
    "#### Tiempo de la respuesta exitosa más rápida"
   ]
  },
  {
   "cell_type": "code",
   "execution_count": null,
   "metadata": {},
   "outputs": [],
   "source": [
    "# debería el informar máximo de (timestamp de estado \"OK\" - timestamp de registro anterior) \n"
   ]
  },
  {
   "cell_type": "markdown",
   "metadata": {},
   "source": [
    "#### Promedio de tiempo de respuesta para respuestas exitosas"
   ]
  },
  {
   "cell_type": "code",
   "execution_count": 39,
   "metadata": {},
   "outputs": [
    {
     "name": "stdout",
     "output_type": "stream",
     "text": [
      "El promedio de tiempo de respuesta para respuestas exitosas es: 0.20 %\n"
     ]
    }
   ],
   "source": [
    "# sum(columna estado \"OK\") / len (columna estado)\n",
    "cant_total = df[\"Estado\"]\n",
    "c = Counter(cant_total)\n",
    "cant_ok = c[\"ok\"]\n",
    "total = sum(c.values())\n",
    "\n",
    "print (\"El promedio de tiempo de respuesta para respuestas exitosas es:\", \"{:.2f}\".format((cant_ok/total)*100), \"%\")"
   ]
  },
  {
   "cell_type": "markdown",
   "metadata": {},
   "source": [
    "#### Promedio de tiempo de partida general"
   ]
  },
  {
   "cell_type": "code",
   "execution_count": null,
   "metadata": {},
   "outputs": [],
   "source": [
    "# variable que suma (timestamp(estado inicio_partida) - timestamp(estado fin)) y divide por cant de partidas [sobre esto último deberíamos consultar si se considerará también las canceladas]"
   ]
  },
  {
   "cell_type": "markdown",
   "metadata": {},
   "source": [
    "#### Porcentaje de aciertos por usuarie"
   ]
  },
  {
   "cell_type": "code",
   "execution_count": null,
   "metadata": {},
   "outputs": [],
   "source": [
    "aciertos= df[df[\"Estado\"] == \"ok\"]\n",
    "aciertos_usuarios=aciertos.groupby([\"Usuarie\"]).size()\n",
    "rta_total=df[(df[\"Estado\"] == \"ok\")|(df[\"Estado\"] == \"error\")|(df[\"Estado\"] == \"timeout\")]\n",
    "rta_totales_usuarios=rta_total.groupby([\"Usuarie\"]).size().values\n",
    "\n",
    "porcentajes=[int((rta_ok/rta_total)*100) for rta_ok,rta_total in zip(aciertos_usuarios.values,rta_totales_usuarios)]\n",
    "make_bar_chart(aciertos_usuarios.keys(),porcentajes,'Porcentaje de aciertos según usuarios','Porcentaje aciertos','Usuarios')"
   ]
  },
  {
   "cell_type": "markdown",
   "metadata": {},
   "source": [
    "#### Cantidad de tarjetas para las que el usuarie no dio respuesta"
   ]
  },
  {
   "cell_type": "code",
   "execution_count": null,
   "metadata": {},
   "outputs": [],
   "source": [
    "sin_respuesta = df[df[\"Estado\"] == \"timeout\"]\n",
    "sin_respuesta=sin_respuesta.groupby([\"Usuarie\"]).size()\n",
    "\n",
    "usuarios = [x for x in sin_respuesta.keys()]\n",
    "sin_respuesta_por_usuarios = [x for x in sin_respuesta.values]\n",
    "make_bar_chart(usuarios,sin_respuesta_por_usuarios,'Tarjetas sin respuesta por usuario','Cantidad tarjetas','Usuarios')"
   ]
  },
  {
   "cell_type": "markdown",
   "metadata": {},
   "source": [
    "#### Cantidad de tarjetas en las que el usuarie dio una respuesta errónea"
   ]
  },
  {
   "cell_type": "code",
   "execution_count": null,
   "metadata": {},
   "outputs": [],
   "source": [
    "errores = df[df[\"Estado\"] == \"error\"]\n",
    "errores = errores.groupby([\"Usuarie\"]).size()\n",
    "\n",
    "usuarios = [x for x in errores.keys()]\n",
    "errores_por_usuario = [x for x in errores.values]\n",
    "make_bar_chart(usuarios,errores_por_usuario,'Tarjetas con respuesta errónea por usuario','Cantidad tarjetas','Usuarios')"
   ]
  },
  {
   "cell_type": "markdown",
   "metadata": {},
   "source": [
    "### Opcional"
   ]
  },
  {
   "cell_type": "markdown",
   "metadata": {},
   "source": [
    "#### Gráfico que muestre el porcentaje de partidas que se juegan para cada dia de la semana"
   ]
  },
  {
   "cell_type": "markdown",
   "metadata": {},
   "source": [
    "#### Promedio de tiempo de partidas finalizadas por nivel"
   ]
  },
  {
   "cell_type": "markdown",
   "metadata": {},
   "source": [
    "#### Porcentaje de palabras encontradas en las partidas \"timeout\""
   ]
  }
 ],
 "metadata": {
  "kernelspec": {
   "display_name": "Python 3.10.0 ('venv': venv)",
   "language": "python",
   "name": "python3"
  },
  "language_info": {
   "codemirror_mode": {
    "name": "ipython",
    "version": 3
   },
   "file_extension": ".py",
   "mimetype": "text/x-python",
   "name": "python",
   "nbconvert_exporter": "python",
   "pygments_lexer": "ipython3",
   "version": "3.10.0"
  },
  "orig_nbformat": 4,
  "vscode": {
   "interpreter": {
    "hash": "4d09f79659e992cbdae4e23efbe445c26bade75e73604d9dcd86701c7556d579"
   }
  }
 },
 "nbformat": 4,
 "nbformat_minor": 2
}
