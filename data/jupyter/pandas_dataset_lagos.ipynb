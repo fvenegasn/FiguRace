{
 "cells": [
  {
   "cell_type": "markdown",
   "metadata": {},
   "source": [
    "## Dataset \"Lagos\" en Pandas"
   ]
  },
  {
   "cell_type": "markdown",
   "metadata": {},
   "source": [
    "### Implementación de módulos a utilizar"
   ]
  },
  {
   "cell_type": "code",
   "execution_count": 17,
   "metadata": {},
   "outputs": [],
   "source": [
    "import os\n",
    "import pandas as pd\n",
    "import numpy as np"
   ]
  },
  {
   "cell_type": "markdown",
   "metadata": {},
   "source": [
    "### Se utilizarán como datos de las tarjetas: “Ubicación”, “Superficie (km²)”, “Profundidad máxima (m)”, “Profundidad media (m)”, “Coordenadas”. Como dato a adivinar se utilizará “Nombre”. Descartar el resto de las columnas."
   ]
  },
  {
   "cell_type": "markdown",
   "metadata": {},
   "source": [
    "##### Se abre el archivo y se indica que se trabajará con las columnas indicadas en el enunciado, más la del nombre que es lo que se deberá adivinar en el juego"
   ]
  },
  {
   "cell_type": "code",
   "execution_count": 18,
   "metadata": {},
   "outputs": [],
   "source": [
    "csv = \"Lagos_Argentina_Hoja_1.csv\"\n",
    "path = os.path.join(os.getcwd(),'..','csv',csv)\n",
    "columns = [\"Ubicación\", \"Superficie (km²)\", \"Profundidad máxima (m)\",\"Profundidad media (m)\", \"Coordenadas\", \"Nombre\"]\n",
    "\n",
    "try:\n",
    "    dataset=pd.read_csv(path,usecols=columns)\n",
    "\n",
    "except FileNotFoundError:\n",
    "    print(f\"No se encuentra el dataset a procesar {csv}\")"
   ]
  },
  {
   "cell_type": "markdown",
   "metadata": {},
   "source": [
    "#### El archivo resultante deberá tener las siguientes columnas (en este orden específico): “Ubicación”, “Superficie (km²)”, “Profundidad máxima (m)\",“Profundidad media (m)”, “Coordenadas” y “Nombre”."
   ]
  },
  {
   "cell_type": "code",
   "execution_count": 19,
   "metadata": {},
   "outputs": [],
   "source": [
    "dataset = dataset.reindex(columns=columns)"
   ]
  },
  {
   "cell_type": "markdown",
   "metadata": {},
   "source": [
    "### Transformar las coordenadas en la columna \"Coordenadas\" a grados decimales"
   ]
  },
  {
   "cell_type": "code",
   "execution_count": 20,
   "metadata": {},
   "outputs": [],
   "source": [
    "def coord_a_decimales (*args):\n",
    "    grados,minutos,segundos = args\n",
    "    return \"{:.3f}\".format(grados + (minutos*(1/60)) + (segundos*(1/3600)))\n",
    "\n",
    "def transformar_coordenada (coordenada):\n",
    "    in_decimals = []\n",
    "    #list comprehension\n",
    "    for linea in coordenada:\n",
    "        coord1 = map(int,linea[:3])\n",
    "        coord2 = map(int,linea[4:7])\n",
    "        in_decimals.append(\"-\" + coord_a_decimales(*coord1) + \" / \" + \"-\"+ coord_a_decimales(*coord2)) \n",
    "    return in_decimals\n",
    "\n",
    "coordenadas_column = dataset[\"Coordenadas\"]\n",
    "coordenadas_column = coordenadas_column.str.replace(\"°\", \" \").str.replace(\"'\", \" \").str.replace('\"', \" \")\n",
    "coordenadas_column = coordenadas_column.str.split(\" \")\n",
    "coordenadas_column = transformar_coordenada(coordenadas_column)"
   ]
  },
  {
   "cell_type": "markdown",
   "metadata": {},
   "source": [
    "#### Aquellos valores incompletos dentro de las columnas \"Profundidad media (m)\" y \"Profundidad máxima (m)\" deben ser reemplazados por \"Valor desconocido\""
   ]
  },
  {
   "cell_type": "code",
   "execution_count": 23,
   "metadata": {},
   "outputs": [
    {
     "name": "stdout",
     "output_type": "stream",
     "text": [
      "0                 150.0\n",
      "1     Valor desconocido\n",
      "2                 157.0\n",
      "3                  20.0\n",
      "4                  49.0\n",
      "5                   7.0\n",
      "6     Valor desconocido\n",
      "7     Valor desconocido\n",
      "8                  79.0\n",
      "9                 142.0\n",
      "10    Valor desconocido\n",
      "11    Valor desconocido\n",
      "12    Valor desconocido\n",
      "13                149.0\n",
      "14                 64.0\n",
      "15                166.0\n",
      "16                 43.0\n",
      "17    Valor desconocido\n",
      "18                111.0\n",
      "19    Valor desconocido\n",
      "20    Valor desconocido\n",
      "21                101.0\n",
      "22                 31.0\n",
      "23    Valor desconocido\n",
      "24                111.0\n",
      "25    Valor desconocido\n",
      "26    Valor desconocido\n",
      "27    Valor desconocido\n",
      "28    Valor desconocido\n",
      "29                 69.0\n",
      "30    Valor desconocido\n",
      "31    Valor desconocido\n",
      "32    Valor desconocido\n",
      "33                104.0\n",
      "34    Valor desconocido\n",
      "35    Valor desconocido\n",
      "36    Valor desconocido\n",
      "37    Valor desconocido\n",
      "38                 92.0\n",
      "39                 80.0\n",
      "40                 49.0\n",
      "41                 66.0\n",
      "42    Valor desconocido\n",
      "43    Valor desconocido\n",
      "44    Valor desconocido\n",
      "45    Valor desconocido\n",
      "46    Valor desconocido\n",
      "47    Valor desconocido\n",
      "48    Valor desconocido\n",
      "49    Valor desconocido\n",
      "50    Valor desconocido\n",
      "51                 25.0\n",
      "52    Valor desconocido\n",
      "53    Valor desconocido\n",
      "54                 81.0\n",
      "55    Valor desconocido\n",
      "56    Valor desconocido\n",
      "Name: Profundidad media (m), dtype: object\n"
     ]
    }
   ],
   "source": [
    "#REVISAR \n",
    "med = dataset[\"Profundidad media (m)\"]\n",
    "max = dataset[\"Profundidad máxima (m)\"]\n",
    "\n",
    "med = med.fillna(\"Valor desconocido\")\n",
    "max = max.fillna(\"Valor desconocido\")\n"
   ]
  },
  {
   "cell_type": "markdown",
   "metadata": {},
   "source": [
    "#### Escritura de las columnas modificadas de acuerdo al enunciado"
   ]
  },
  {
   "cell_type": "code",
   "execution_count": 113,
   "metadata": {},
   "outputs": [],
   "source": [
    "#escritura de columna coordenadas\n",
    "dataset[\"Coordenadas\"] = coordenadas_column\n",
    "#escritura de profundidades media y maxima\n",
    "dataset[\"Profundidad media (m)\"] = med\n",
    "dataset[\"Profundidad máxima (m)\"] = max"
   ]
  },
  {
   "cell_type": "markdown",
   "metadata": {},
   "source": [
    "### Conversión del dataset a CSV, para ser procesado en el juego"
   ]
  },
  {
   "cell_type": "code",
   "execution_count": 114,
   "metadata": {},
   "outputs": [],
   "source": [
    "archivo_nuevo=os.path.join(os.getcwd(),'..','csv','data_set_lagos.csv')\n",
    "dataset.to_csv(archivo_nuevo,index=False)"
   ]
  }
 ],
 "metadata": {
  "kernelspec": {
   "display_name": "Python 3.10.0 64-bit",
   "language": "python",
   "name": "python3"
  },
  "language_info": {
   "codemirror_mode": {
    "name": "ipython",
    "version": 3
   },
   "file_extension": ".py",
   "mimetype": "text/x-python",
   "name": "python",
   "nbconvert_exporter": "python",
   "pygments_lexer": "ipython3",
   "version": "3.10.0"
  },
  "orig_nbformat": 4,
  "vscode": {
   "interpreter": {
    "hash": "afb734500600fd355917ca529030176ea0ca205570884b88f2f6f7d791fd3fbe"
   }
  }
 },
 "nbformat": 4,
 "nbformat_minor": 2
}
