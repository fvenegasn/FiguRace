{
 "cells": [
  {
   "cell_type": "markdown",
   "id": "9eec3603",
   "metadata": {},
   "source": [
    "# Modificación del dataset de películas"
   ]
  },
  {
   "cell_type": "markdown",
   "id": "8ac9081c",
   "metadata": {},
   "source": [
    "Importación de módulos a utilizar:"
   ]
  },
  {
   "cell_type": "code",
   "execution_count": 3,
   "id": "88dda874",
   "metadata": {},
   "outputs": [],
   "source": [
    "import os\n",
    "import csv\n",
    "import itertools\n",
    "import string\n",
    "from collections import Counter\n",
    "import random"
   ]
  },
  {
   "cell_type": "markdown",
   "id": "17e96556",
   "metadata": {},
   "source": [
    "Funciones definidas:"
   ]
  },
  {
   "cell_type": "code",
   "execution_count": 2,
   "id": "cedb5f73",
   "metadata": {},
   "outputs": [],
   "source": [
    "def elijo_palabras(secuencia):\n",
    "    \"\"\"Retorna una lista de hasta 3 items elegidos al azar de una lista\"\"\"\n",
    "    if len(secuencia)<=2:\n",
    "        return secuencia\n",
    "    else:\n",
    "        return random.sample(secuencia,3)"
   ]
  },
  {
   "cell_type": "markdown",
   "id": "55a7ffa4",
   "metadata": {},
   "source": [
    "Se abre archivo con el que se va a trabajar.\n",
    "\n",
    "Se deben obtener las 100 palabras que más aparecen en los overviews.\n",
    "\n",
    "Además, hay que descartar las películas que no tienen “overview” y las películas cuyo idioma original tenga más de 2 caracteres."
   ]
  },
  {
   "cell_type": "code",
   "execution_count": 7,
   "id": "31c8c0e0",
   "metadata": {},
   "outputs": [],
   "source": [
    "ruta=os.getcwd()\n",
    "arch = 'mymoviedb.csv'\n",
    "arch_nuevo = 'data_set_peliculas.csv'\n",
    "try:\n",
    "    with open(os.path.join(ruta,'archivos',arch),'r',encoding='utf-8') as archivo:\n",
    "        \n",
    "        reader = csv.reader(archivo,delimiter=',')\n",
    "        \n",
    "        encabezado_peliculas = next(reader) #encabezado del archivo original\n",
    "               \n",
    "        descarte = filter(lambda x: x[2]!='' and len(x[6])<3,reader)\n",
    "        \n",
    "        filas_peliculas = list(descarte) #guardo información del archivo original en una lista de listas\n",
    "        \n",
    "except FileNotFoundError:\n",
    "    print(f\"No se encuentra el archivo {arch}\")      \n",
    "        "
   ]
  },
  {
   "cell_type": "markdown",
   "id": "596dcc77",
   "metadata": {},
   "source": [
    "Se agrupan los overview en una sola lista:"
   ]
  },
  {
   "cell_type": "code",
   "execution_count": 5,
   "id": "99625836",
   "metadata": {},
   "outputs": [],
   "source": [
    "overview = [fila[2] for fila in filas_peliculas]"
   ]
  },
  {
   "cell_type": "markdown",
   "id": "b2851483",
   "metadata": {},
   "source": [
    "Se separan las palabras de la columna del overview:"
   ]
  },
  {
   "cell_type": "code",
   "execution_count": null,
   "id": "6c0c17ad",
   "metadata": {},
   "outputs": [],
   "source": [
    "overview_map = map(lambda x: x.split(' '),overview)"
   ]
  },
  {
   "cell_type": "markdown",
   "id": "948844ec",
   "metadata": {},
   "source": [
    "Se guarda en una variable (que se utilizará más adelante) la lista de listas de palabras por overview:"
   ]
  },
  {
   "cell_type": "code",
   "execution_count": 6,
   "id": "f5ab6dbe",
   "metadata": {},
   "outputs": [],
   "source": [
    "palabras_por_overview = [x for x in overview_map]"
   ]
  },
  {
   "cell_type": "markdown",
   "id": "17be677e",
   "metadata": {},
   "source": [
    "Se agrupan todas las palabras en una sóla lista:"
   ]
  },
  {
   "cell_type": "code",
   "execution_count": 7,
   "id": "4d86de8a",
   "metadata": {},
   "outputs": [],
   "source": [
    "palabras_overview = list(itertools.chain.from_iterable(palabras_por_overview))"
   ]
  },
  {
   "cell_type": "markdown",
   "id": "e774af9e",
   "metadata": {},
   "source": [
    "Las palabras en minúscula y sin signos de puntuación:"
   ]
  },
  {
   "cell_type": "code",
   "execution_count": 8,
   "id": "99d6feb0",
   "metadata": {},
   "outputs": [],
   "source": [
    "palabras = map(lambda x: x.lower().strip(string.punctuation),palabras_overview)"
   ]
  },
  {
   "cell_type": "markdown",
   "id": "df7180cd",
   "metadata": {},
   "source": [
    "Se toman las 100 palabras más comunes de todos los overviews combinados:"
   ]
  },
  {
   "cell_type": "code",
   "execution_count": 9,
   "id": "23d925f8",
   "metadata": {},
   "outputs": [
    {
     "name": "stdout",
     "output_type": "stream",
     "text": [
      "['the', 'a', 'to', 'and', 'of', 'in', 'his', 'is', 'with', 'her', 'an', 'he', 'for', 'on', 'that', 'their', 'as', 'when', 'by', 'who', 'from', 'but', 'they', 'she', 'are', 'has', 'after', 'into', 'at', 'him', 'life', 'new', 'one', 'young', '', 'it', 'up', 'out', 'world', 'be', 'must', 'two', 'this', 'will', 'all', 'have', 'family', 'them', 'find', 'man', 'only', 'love', 'while', 'where', 'friends', 'time', 'years', 'finds', 'story', 'about', 'not', 'woman', 'help', 'school', 'get', 'home', 'back', 'was', 'can', 'own', 'mysterious', 'what', 'now', 'against', 'take', 'group', 'which', 'save', 'way', 'before', 'more', 'girl', 'first', 'other', 'himself', 'soon', 'been', 'father', 'through', 'war', 'over', 'become', 'lives', 'most', 'becomes', 'town', 'being', 'down', 'takes', 'together']\n"
     ]
    }
   ],
   "source": [
    "#Se obtiene lista de tuplas, donde el primer elemento es la palabra y el segundo las veces que aparece.\n",
    "top_100 = Counter(palabras).most_common(100)\n",
    "\n",
    "#Se obtiene una lista con los elementos pertenecientes a la primera posición de cada tupla.\n",
    "top_100 = [x[0] for x in top_100]\n",
    "\n",
    "print(top_100)     "
   ]
  },
  {
   "cell_type": "markdown",
   "id": "0945e3c6",
   "metadata": {},
   "source": [
    "En el nuevo archivo la columna del overview no debe poseer las palabras pertenecientes al top_100.\n",
    "\n",
    "Además debe tener hasta 3 palabras."
   ]
  },
  {
   "cell_type": "markdown",
   "id": "cbbbbc8f",
   "metadata": {},
   "source": [
    "Se eliminan del overview las palabras pertenecientes al top 100 y las palabras que son simplemente el signo \"-\" ya que no sirven para el juego:"
   ]
  },
  {
   "cell_type": "code",
   "execution_count": 10,
   "id": "3574061a",
   "metadata": {},
   "outputs": [],
   "source": [
    "palabras_sin_top_100 = list(map(lambda y: [x.lower().strip(string.punctuation) for x in y if (x.lower().strip(string.punctuation) not in top_100 and x!='—' and x!='' )],palabras_por_overview))"
   ]
  },
  {
   "cell_type": "code",
   "execution_count": null,
   "id": "1ce22c52",
   "metadata": {},
   "outputs": [],
   "source": [
    "def prueba(top_100,palabras):\n",
    "    x=\n",
    "    x.lower().strip(string.punctuation)\n",
    "    lambda y: [x.lower().strip(string.punctuation) for x in y if (x.lower().strip(string.punctuation) not in top_100 and x!='—' and x!='' )"
   ]
  },
  {
   "cell_type": "markdown",
   "id": "44ed21ba",
   "metadata": {},
   "source": [
    "Se eligen hasta 3 palabras por overview:"
   ]
  },
  {
   "cell_type": "code",
   "execution_count": 11,
   "id": "50c52d2e",
   "metadata": {},
   "outputs": [],
   "source": [
    "overview_reducido = map(lambda x: elijo_palabras(x),palabras_sin_top_100)\n",
    "overview_final = list(map(lambda x: ';'.join(x),overview_reducido))"
   ]
  },
  {
   "cell_type": "markdown",
   "id": "64d38e08",
   "metadata": {},
   "source": [
    "Creo el nuevo archivo:"
   ]
  },
  {
   "cell_type": "code",
   "execution_count": 12,
   "id": "b3c1794d",
   "metadata": {},
   "outputs": [],
   "source": [
    "try:\n",
    "    with open(os.path.join(ruta,'archivos',arch_nuevo),'x',encoding='utf-8') as nuevo:\n",
    "        \n",
    "        #Se ecribe encabezado en el nuevo archivo\n",
    "        x = encabezado_peliculas\n",
    "        lista_encabezado = [x[7],x[6],x[0],x[5],x[2],x[1]]\n",
    "        nuevo.write(','.join(lista_encabezado))\n",
    "        \n",
    "        linea = filas_peliculas\n",
    "        \n",
    "        for i in range(len(linea)):\n",
    "            columnas = \",\".join([linea[i][7],linea[i][6],linea[i][0],linea[i][5],overview_final[i],linea[i][1]])\n",
    "            nuevo.write('\\n' + columnas)\n",
    "        \n",
    "except FileExistsError:\n",
    "    print(f\"El archivo {arch_nuevo} ya existe\")"
   ]
  }
 ],
 "metadata": {
  "interpreter": {
   "hash": "7be9405488277c49b44b7d4d24162ce55057ba847f33b14087f0d2ba57d6f9f3"
  },
  "kernelspec": {
   "display_name": "Python 3.10.0 64-bit",
   "language": "python",
   "name": "python3"
  },
  "language_info": {
   "codemirror_mode": {
    "name": "ipython",
    "version": 3
   },
   "file_extension": ".py",
   "mimetype": "text/x-python",
   "name": "python",
   "nbconvert_exporter": "python",
   "pygments_lexer": "ipython3",
   "version": "3.10.0"
  }
 },
 "nbformat": 4,
 "nbformat_minor": 5
}
