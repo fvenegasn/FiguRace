{
 "cells": [
  {
   "cell_type": "markdown",
   "metadata": {},
   "source": [
    "### Importación modulos a utilizar"
   ]
  },
  {
   "cell_type": "code",
   "execution_count": 1,
   "metadata": {},
   "outputs": [],
   "source": [
    "import pandas as pd\n",
    "import os\n",
    "import random\n",
    "from itertools import chain\n",
    "from string import punctuation\n",
    "from collections import Counter"
   ]
  },
  {
   "cell_type": "markdown",
   "metadata": {},
   "source": [
    "### Definición de funciones necesarias"
   ]
  },
  {
   "cell_type": "markdown",
   "metadata": {},
   "source": [
    "Funcion \"elijo_palabras\": usada para elegir 3 palabras aleatorias de los overviews de las peliculas"
   ]
  },
  {
   "cell_type": "code",
   "execution_count": 2,
   "metadata": {},
   "outputs": [],
   "source": [
    "def elijo_palabras(secuencia):\n",
    "    \"\"\"Retorna una lista de hasta 3 items elegidos al azar de una lista\"\"\"\n",
    "    if len(secuencia)<=2:\n",
    "        return secuencia\n",
    "    else:\n",
    "        return random.sample(secuencia,3)"
   ]
  },
  {
   "cell_type": "markdown",
   "metadata": {},
   "source": [
    "Revice una lista de palabras y descarte aquellas que no estan en el top_x"
   ]
  },
  {
   "cell_type": "code",
   "execution_count": 64,
   "metadata": {},
   "outputs": [],
   "source": [
    "def not_top_x(top_x,lista:list[str]):\n",
    "    \"\"\" Retorna lista de str que no se encuentran en top_x\n",
    "    \"\"\"\n",
    "    return list(filter(lambda pal: pal not in top_x and (pal !='' and pal !='—'),set(lista)))"
   ]
  },
  {
   "cell_type": "markdown",
   "metadata": {},
   "source": [
    "### Lectura del csv de películas"
   ]
  },
  {
   "cell_type": "markdown",
   "metadata": {},
   "source": [
    "Toma del archivo csv solo las columnas a utilizar (Genre, Original_Language, Release_Date, Vote_Average, Overview, Title), en el orden especificado.\n",
    "- usecols: lista de las columnas a tomar"
   ]
  },
  {
   "cell_type": "code",
   "execution_count": 49,
   "metadata": {},
   "outputs": [],
   "source": [
    "path_csv=os.path.join(os.getcwd(),'..','csv','mymoviedb.csv')\n",
    "\n",
    "columnas=['Genre','Original_Language','Release_Date','Vote_Average','Overview','Title']\n",
    "\n",
    "peliculas=pd.read_csv(path_csv,usecols=columnas)"
   ]
  },
  {
   "cell_type": "markdown",
   "metadata": {},
   "source": [
    "### Procesamiento del archivo"
   ]
  },
  {
   "cell_type": "markdown",
   "metadata": {},
   "source": [
    "Reordenamiento de las columnas requeridas al siguiente orden: Genre, Original_Language, Release_Date, Vote_Average, Overview, Title"
   ]
  },
  {
   "cell_type": "code",
   "execution_count": 50,
   "metadata": {},
   "outputs": [],
   "source": [
    "peliculas=peliculas.reindex(columns=columnas)"
   ]
  },
  {
   "cell_type": "markdown",
   "metadata": {},
   "source": [
    "Descarte las películas que no tienen “overview” y las peliculas cuyo idioma original tenga más de 2 caracteres"
   ]
  },
  {
   "cell_type": "code",
   "execution_count": 51,
   "metadata": {},
   "outputs": [],
   "source": [
    "df=peliculas[(peliculas.Overview != '')&(peliculas.Original_Language.apply(len)<3)] "
   ]
  },
  {
   "cell_type": "markdown",
   "metadata": {},
   "source": [
    "Toma todos los overviews de las peliculas y los agrupa en una lista.\n",
    "Separa por palabras a cada overview, éstas en minuscula y sin caracteres especiales."
   ]
  },
  {
   "cell_type": "code",
   "execution_count": 66,
   "metadata": {},
   "outputs": [],
   "source": [
    "palabras_overviews=df.Overview.apply(lambda x: x.lower().split())\n",
    "\n",
    "for i,lista in enumerate(palabras_overviews):\n",
    "    palabras_overviews.iloc[i]=list(map(lambda x:x.strip(punctuation),lista))"
   ]
  },
  {
   "cell_type": "markdown",
   "metadata": {},
   "source": [
    "Obtengo las 100 palabras mas repetidas entre todos los overviews"
   ]
  },
  {
   "cell_type": "code",
   "execution_count": 67,
   "metadata": {},
   "outputs": [],
   "source": [
    "palabras=list(chain.from_iterable(palabras_overviews))\n",
    "top_100 = list(zip(*Counter(palabras).most_common(100)))[0]"
   ]
  },
  {
   "cell_type": "markdown",
   "metadata": {},
   "source": [
    "Toma la lista de palabras de cada overview, tomando al menos 3 palabras al azar que no se encuentran en el top 100"
   ]
  },
  {
   "cell_type": "code",
   "execution_count": null,
   "metadata": {},
   "outputs": [],
   "source": [
    "for i,lista in enumerate(palabras_overviews):\n",
    "    palabras_overviews.iloc[i]=';'.join(elijo_palabras(not_top_x(top_100,lista)))"
   ]
  },
  {
   "cell_type": "markdown",
   "metadata": {},
   "source": [
    "En la columna Overview del DataFrame se encuentran ahora, las palabras elegidas"
   ]
  },
  {
   "cell_type": "code",
   "execution_count": 69,
   "metadata": {},
   "outputs": [],
   "source": [
    "peliculas.Overview=palabras_overviews"
   ]
  },
  {
   "cell_type": "markdown",
   "metadata": {},
   "source": [
    "Conversión a archivo csv"
   ]
  },
  {
   "cell_type": "code",
   "execution_count": 70,
   "metadata": {},
   "outputs": [],
   "source": [
    "archivo_nuevo=os.path.join(os.getcwd(),'..','csv','data_set_peliculas2.csv')\n",
    "peliculas.to_csv(archivo_nuevo,index=False)"
   ]
  }
 ],
 "metadata": {
  "kernelspec": {
   "display_name": "Python 3.10.0 ('venv': venv)",
   "language": "python",
   "name": "python3"
  },
  "language_info": {
   "codemirror_mode": {
    "name": "ipython",
    "version": 3
   },
   "file_extension": ".py",
   "mimetype": "text/x-python",
   "name": "python",
   "nbconvert_exporter": "python",
   "pygments_lexer": "ipython3",
   "version": "3.10.0"
  },
  "orig_nbformat": 4,
  "vscode": {
   "interpreter": {
    "hash": "4d09f79659e992cbdae4e23efbe445c26bade75e73604d9dcd86701c7556d579"
   }
  }
 },
 "nbformat": 4,
 "nbformat_minor": 2
}
