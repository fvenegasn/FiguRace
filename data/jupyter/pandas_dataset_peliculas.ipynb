{
 "cells": [
  {
   "cell_type": "markdown",
   "metadata": {},
   "source": [
    "## Dataset \"Películas\" en Pandas"
   ]
  },
  {
   "cell_type": "markdown",
   "metadata": {},
   "source": [
    "### Importación modulos a utilizar"
   ]
  },
  {
   "cell_type": "markdown",
   "metadata": {},
   "source": [
    "* `import os`: Se importa este módulo para la llamada a las rutas y directorios que existen en el sistema. \n",
    "\n",
    "* `import pandas`: Se importa este módulo para realizar el procesamiento del archivo csv, y así generar uno nuevo con la información necesaria.  \n",
    "\n",
    "* `import random`: Se importa de este módulo la función 'sample'. Función que retorna una lista con una cantidad especificada de items, seleccionados de manera aleatoria, de una secuencia.   \n",
    "\n",
    "* `import itertools`: Se importa este módulo para obtener de la lista de listas de palabras de los overviews, una única lista con los elementos de cada una.  \n",
    "\n",
    "* `import string`: En particular, se importa la variable 'puntuaction', la cual contiene todos los caracteres especiales.  \n",
    "\n",
    "* `import Counter`: Se importa el módulo para la obtención de los 100 valores más repetidos de una secuencia de items.   "
   ]
  },
  {
   "cell_type": "code",
   "execution_count": 3,
   "metadata": {},
   "outputs": [],
   "source": [
    "import pandas as pd\n",
    "import os\n",
    "import random\n",
    "from itertools import chain\n",
    "from string import punctuation\n",
    "from collections import Counter"
   ]
  },
  {
   "cell_type": "markdown",
   "metadata": {},
   "source": [
    "### Definición de funciones necesarias"
   ]
  },
  {
   "cell_type": "markdown",
   "metadata": {},
   "source": [
    "* Función `elijo_palabras`: usada para elegir 3 palabras aleatorias de los overviews de las películas"
   ]
  },
  {
   "cell_type": "code",
   "execution_count": 4,
   "metadata": {},
   "outputs": [],
   "source": [
    "def elijo_palabras(secuencia):\n",
    "    \"\"\"Retorna una lista de hasta 3 items elegidos al azar de una lista\"\"\"\n",
    "    if len(secuencia)<=2:\n",
    "        return secuencia\n",
    "    else:\n",
    "        return random.sample(secuencia,3)"
   ]
  },
  {
   "cell_type": "markdown",
   "metadata": {},
   "source": [
    "* Función `not_top_x`: Recibe una lista de palabras y descarte aquellas que no estan en el top_x. Utilizada para la obtención de aquellas palabras de los overviews que no se encuentran entre las más repetidas."
   ]
  },
  {
   "cell_type": "code",
   "execution_count": 5,
   "metadata": {},
   "outputs": [],
   "source": [
    "def not_top_x(top_x,lista:list[str]):\n",
    "    \"\"\" Retorna lista de str que no se encuentran en top_x\n",
    "    \"\"\"\n",
    "    return list(filter(lambda pal: pal not in top_x and (pal !='' and pal !='—'),set(lista)))"
   ]
  },
  {
   "cell_type": "markdown",
   "metadata": {},
   "source": [
    "### Lectura del csv de películas"
   ]
  },
  {
   "cell_type": "markdown",
   "metadata": {},
   "source": [
    "Se genera un dataframe con información a partir del archivo csv. Se toma del mismo, las columnas a utilizar (Genre, Original_Language, Release_Date, Vote_Average, Overview, Title).\n",
    "- `usecols`: lista de las columnas a tomar"
   ]
  },
  {
   "cell_type": "code",
   "execution_count": 6,
   "metadata": {},
   "outputs": [],
   "source": [
    "path_csv=os.path.join(os.getcwd(),'..','csv','mymoviedb.csv')\n",
    "\n",
    "columnas=['Genre','Original_Language','Release_Date','Vote_Average','Overview','Title']\n",
    "\n",
    "peliculas=pd.read_csv(path_csv,usecols=columnas)"
   ]
  },
  {
   "cell_type": "markdown",
   "metadata": {},
   "source": [
    "### Procesamiento del archivo"
   ]
  },
  {
   "cell_type": "markdown",
   "metadata": {},
   "source": [
    "Reordenamiento de las columnas requeridas al siguiente orden: Genre, Original_Language, Release_Date, Vote_Average, Overview, Title. Dado por la lista *columnas* declarada previamente."
   ]
  },
  {
   "cell_type": "code",
   "execution_count": 7,
   "metadata": {},
   "outputs": [],
   "source": [
    "peliculas=peliculas.reindex(columns=columnas)"
   ]
  },
  {
   "cell_type": "markdown",
   "metadata": {},
   "source": [
    "Descarte de las películas que no tienen “overview” y las películas cuyo idioma original tenga más de 2 caracteres"
   ]
  },
  {
   "cell_type": "code",
   "execution_count": 8,
   "metadata": {},
   "outputs": [],
   "source": [
    "df=peliculas[(peliculas.Overview != '')&(peliculas.Original_Language.apply(len)<3)] "
   ]
  },
  {
   "cell_type": "markdown",
   "metadata": {},
   "source": [
    "Toma cada overviews de las peliculas y lo separa por palabras, convirtiéndolas en minúscula y quitándoles los caracteres especiales."
   ]
  },
  {
   "cell_type": "code",
   "execution_count": null,
   "metadata": {},
   "outputs": [],
   "source": [
    "palabras_overviews=df.Overview.apply(lambda x: x.lower().split())\n",
    "\n",
    "for i,lista in enumerate(palabras_overviews):\n",
    "    palabras_overviews.iloc[i]=list(map(lambda x:x.strip(punctuation),lista))  "
   ]
  },
  {
   "cell_type": "markdown",
   "metadata": {},
   "source": [
    "A partir de las palabras obtenidas anteriormente, se agrupa en una única lista todas las palabras de todos los overviews, para luego, poder obtener las palabras más comunes.\n",
    "\n",
    "Obtengo las 100 palabras más repetidas entre todos los overviews, a partir de la lista generada y mediante la utilización del método *most_common*."
   ]
  },
  {
   "cell_type": "code",
   "execution_count": 10,
   "metadata": {},
   "outputs": [],
   "source": [
    "palabras=list(chain.from_iterable(palabras_overviews))\n",
    "top_100 = list(zip(*Counter(palabras).most_common(100)))[0]"
   ]
  },
  {
   "cell_type": "markdown",
   "metadata": {},
   "source": [
    "Toma de la lista de listas de palabras de cada overview, al menos 3 palabras al azar que no se encuentran en el top 100. Generando un único string con las palabras seleccionadas. \n",
    "\n",
    "Para esto, se utilizan las funciones definidas *elijo_palabras* y *not_top_x*.  \n",
    "\n"
   ]
  },
  {
   "cell_type": "code",
   "execution_count": 11,
   "metadata": {},
   "outputs": [],
   "source": [
    "for i,lista in enumerate(palabras_overviews):\n",
    "    palabras_overviews.iloc[i]=';'.join(elijo_palabras(not_top_x(top_100,lista)))"
   ]
  },
  {
   "cell_type": "markdown",
   "metadata": {},
   "source": [
    "En la columna Overview del DataFrame se encuentran ahora, las palabras elegidas"
   ]
  },
  {
   "cell_type": "code",
   "execution_count": 12,
   "metadata": {},
   "outputs": [],
   "source": [
    "peliculas.Overview=palabras_overviews"
   ]
  },
  {
   "cell_type": "markdown",
   "metadata": {},
   "source": [
    "Conversión a archivo csv mediante la función de pandas. \n",
    " \n",
    "Formato de archivo que será utilizado, tanto por el juego para la obtención de los datos utilizados, como para la recopilación de información generada por el mismo."
   ]
  },
  {
   "cell_type": "code",
   "execution_count": 13,
   "metadata": {},
   "outputs": [],
   "source": [
    "archivo_nuevo=os.path.join(os.getcwd(),'..','csv','data_set_peliculas.csv')\n",
    "peliculas.to_csv(archivo_nuevo,index=False)"
   ]
  }
 ],
 "metadata": {
  "kernelspec": {
   "display_name": "Python 3.10.0 ('venv': venv)",
   "language": "python",
   "name": "python3"
  },
  "language_info": {
   "codemirror_mode": {
    "name": "ipython",
    "version": 3
   },
   "file_extension": ".py",
   "mimetype": "text/x-python",
   "name": "python",
   "nbconvert_exporter": "python",
   "pygments_lexer": "ipython3",
   "version": "3.10.0"
  },
  "orig_nbformat": 4,
  "vscode": {
   "interpreter": {
    "hash": "4d09f79659e992cbdae4e23efbe445c26bade75e73604d9dcd86701c7556d579"
   }
  }
 },
 "nbformat": 4,
 "nbformat_minor": 2
}
