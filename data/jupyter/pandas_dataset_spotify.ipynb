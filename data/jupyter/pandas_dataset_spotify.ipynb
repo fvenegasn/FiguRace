{
 "cells": [
  {
   "cell_type": "markdown",
   "metadata": {},
   "source": [
    "### Importación modulos a utilizar"
   ]
  },
  {
   "cell_type": "code",
   "execution_count": 1,
   "metadata": {},
   "outputs": [],
   "source": [
    "import os\n",
    "import pandas as pd"
   ]
  },
  {
   "cell_type": "markdown",
   "metadata": {},
   "source": [
    "### Funciones definidas:"
   ]
  },
  {
   "cell_type": "markdown",
   "id": "3bd36424",
   "metadata": {},
   "source": [
    "La función \"genero_modificado\" recibe un genero y lo retorna en “title case”, exceptuando las siglas EDM, DFW, UK, R&B y\n",
    "LGBTQ+ que deben ir en mayúsculas. \n",
    "Considera también la excepción “k-pop”, que debe ser transformada a “K-Pop”"
   ]
  },
  {
   "cell_type": "code",
   "execution_count": 35,
   "metadata": {},
   "outputs": [],
   "source": [
    "def genero_modificado(genero):\n",
    "    \"\"\"Covierte a mayúscula si es EDM, DFW, UK, R&B o LGBTQ+. Caso contrario convierte a title\"\"\"\n",
    "    x=genero.title()\n",
    "    \n",
    "    if 'K-pop' in x:\n",
    "        x.replace('K-pop','K-Pop')\n",
    "    \n",
    "    lista_gen = ['Edm','Dfw','Uk','R&b','Lgbtq+']\n",
    "       \n",
    "    #Busco si en el género global se encuentra alguno de los géneros de lista_gen\n",
    "    for gen in lista_gen:\n",
    "        if gen in x:\n",
    "            # Convierto a mayúscula la parte del género que es alguno de los de lista_gen\n",
    "            x = x.replace(gen,gen.upper())\n",
    "    return x"
   ]
  },
  {
   "cell_type": "markdown",
   "metadata": {},
   "source": [
    "### Lectura del csv de Spotify"
   ]
  },
  {
   "cell_type": "markdown",
   "metadata": {},
   "source": [
    "Toma del archivo csv solo las columnas a utilizar (top genre, artist type, year released, top year, bpm, artist), en el orden especificado.\n",
    "- usecols: lista de las columnas a tomar\n",
    "\n",
    "Luego, covierte a title case el nombre de cada columna"
   ]
  },
  {
   "cell_type": "code",
   "execution_count": null,
   "metadata": {},
   "outputs": [],
   "source": [
    "path_csv=os.path.join(os.getcwd(),'..','csv','Spotify 2010 - 2019 Top 100.csv')\n",
    "\n",
    "columnas=['Top Genre','Artist Type','Year Released', 'Top Year', 'Bpm','Artist']\n",
    "\n",
    "canciones=pd.read_csv(path_csv,usecols=list(map(lambda x: x.lower(),columnas)))\n",
    "\n",
    "canciones.columns=canciones.columns.str.title()"
   ]
  },
  {
   "cell_type": "markdown",
   "metadata": {},
   "source": [
    "### Procesamiento del archivo"
   ]
  },
  {
   "cell_type": "markdown",
   "metadata": {},
   "source": [
    "Reordenamiento de las columnas requeridas al siguiente orden: “Top Genre”, “Artist Type”, “Year Released”, “Top Year”, “BPM” y “Artist”"
   ]
  },
  {
   "cell_type": "code",
   "execution_count": null,
   "metadata": {},
   "outputs": [],
   "source": [
    "canciones = canciones.reindex(columns=columnas)"
   ]
  },
  {
   "cell_type": "markdown",
   "metadata": {},
   "source": [
    "Se convierten a “title case” los géneros musicales excepto las siglas EDM, DFW, UK, R&B y\n",
    "LGBTQ+ que deben ir en mayúsculas. Considerando la excepción “k-pop” que debe ser transformada a “K-Pop”."
   ]
  },
  {
   "cell_type": "code",
   "execution_count": null,
   "metadata": {},
   "outputs": [],
   "source": [
    "canciones['Top Genre']=canciones['Top Genre'].apply(genero_modificado)"
   ]
  },
  {
   "cell_type": "markdown",
   "metadata": {},
   "source": [
    "Conversión a archivo csv"
   ]
  },
  {
   "cell_type": "code",
   "execution_count": 39,
   "metadata": {},
   "outputs": [],
   "source": [
    "archivo_nuevo=os.path.join(os.getcwd(),'..','csv','data_set_spotify.csv')\n",
    "canciones.to_csv(archivo_nuevo,index=False)"
   ]
  }
 ],
 "metadata": {
  "kernelspec": {
   "display_name": "Python 3.10.0 ('venv': venv)",
   "language": "python",
   "name": "python3"
  },
  "language_info": {
   "codemirror_mode": {
    "name": "ipython",
    "version": 3
   },
   "file_extension": ".py",
   "mimetype": "text/x-python",
   "name": "python",
   "nbconvert_exporter": "python",
   "pygments_lexer": "ipython3",
   "version": "3.10.0"
  },
  "orig_nbformat": 4,
  "vscode": {
   "interpreter": {
    "hash": "4d09f79659e992cbdae4e23efbe445c26bade75e73604d9dcd86701c7556d579"
   }
  }
 },
 "nbformat": 4,
 "nbformat_minor": 2
}
