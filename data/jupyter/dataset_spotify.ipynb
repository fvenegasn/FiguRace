{
 "cells": [
  {
   "cell_type": "markdown",
   "id": "f8dce6bd",
   "metadata": {},
   "source": [
    "# Modificación del dataset de Spotify"
   ]
  },
  {
   "cell_type": "markdown",
   "id": "6c941839",
   "metadata": {},
   "source": [
    "Importación de módulos a utilizar:"
   ]
  },
  {
   "cell_type": "code",
   "execution_count": 1,
   "id": "4a751a23",
   "metadata": {},
   "outputs": [],
   "source": [
    "import os\n",
    "import csv"
   ]
  },
  {
   "cell_type": "markdown",
   "id": "a9da44c0",
   "metadata": {},
   "source": [
    "### Funciones definidas:"
   ]
  },
  {
   "cell_type": "markdown",
   "id": "3bd36424",
   "metadata": {},
   "source": [
    "La función \"genero_modificado\" recibe un genero y lo retorna en “title case”, exceptuando las siglas EDM, DFW, UK, R&B y\n",
    "LGBTQ+ que deben ir en mayúsculas. \n",
    "Considera también la excepción “k-pop”, que debe ser transformada a “K-Pop”"
   ]
  },
  {
   "cell_type": "code",
   "execution_count": 2,
   "id": "bc6205bb",
   "metadata": {},
   "outputs": [],
   "source": [
    "def genero_modificado(genero):\n",
    "    \"\"\"Covierte a mayúscula si es EDM, DFW, UK, R&B o LGBTQ+. Caso contrario convierte a title\"\"\"\n",
    "    x=genero.title()\n",
    "    \n",
    "    if 'K-pop' in x:\n",
    "        x.replace('K-pop','K-Pop')\n",
    "    \n",
    "    lista_gen = ['Edm','Dfw','Uk','R&b','Lgbtq+']\n",
    "       \n",
    "    #Busco si en el género global se encuentra alguno de los géneros de lista_gen\n",
    "    for gen in lista_gen:\n",
    "        if gen in x:\n",
    "            # Convierto a mayúscula la parte del género que es alguno de los de lista_gen\n",
    "            x = x.replace(gen,gen.upper())\n",
    "    return x"
   ]
  },
  {
   "cell_type": "markdown",
   "id": "5bcdaaeb",
   "metadata": {},
   "source": [
    "La función \"escribir_archivo_csv\" crea y escribe un archivo csv, a partir de los datos recibos por parametro.  "
   ]
  },
  {
   "cell_type": "code",
   "execution_count": null,
   "id": "841c2487",
   "metadata": {},
   "outputs": [],
   "source": [
    "def escribir_archivo_csv(nombre,encabezado,datos):\n",
    "    \"\"\" \n",
    "    Creo el dataset y guardo los datos requeridos\n",
    "    \"\"\"\n",
    "    try:\n",
    "        with open(nombre,'x',newline=\"\",encoding='utf-8') as nuevo:\n",
    "            writer= csv.writer(nuevo)\n",
    "            writer.writerow(encabezado)\n",
    "            for elem in datos: \n",
    "                writer.writerow(elem)\n",
    "\n",
    "    except FileExistsError:\n",
    "        print(f\"El archivo {nombre} ya existe\")\n",
    "        exit(1)"
   ]
  },
  {
   "cell_type": "markdown",
   "id": "c51c1adf",
   "metadata": {},
   "source": [
    "### Apertura y escritura de los archivos"
   ]
  },
  {
   "cell_type": "markdown",
   "id": "578c8750",
   "metadata": {},
   "source": [
    "Se declaran las variables y se intenta abrir el archivo a utilizar. En caso de que no se encuentra se termina con el programa"
   ]
  },
  {
   "cell_type": "code",
   "execution_count": null,
   "id": "b518b45d",
   "metadata": {},
   "outputs": [],
   "source": [
    "\n",
    "ruta=os.path.join(os.getcwd(),\"archivos\")\n",
    "nombre_archivo_lectura = 'Spotify 2010 - 2019 Top 100.csv'\n",
    "nombre_archivo_nuevo = 'data_set_spotify.csv'\n",
    "ruta_archivo_lectura = os.path.join(ruta,nombre_archivo_lectura)\n",
    "ruta_archivo_escritura = os.path.join(ruta,nombre_archivo_nuevo)\n",
    "\n",
    "try:\n",
    "    archivo=open(ruta_archivo_lectura,'r',encoding='utf-8')\n",
    "except FileNotFoundError:\n",
    "    print(f\"No se encuentra el archivo {nombre_archivo_lectura}\")\n",
    "    exit(1)"
   ]
  },
  {
   "cell_type": "markdown",
   "id": "a703ee5c",
   "metadata": {},
   "source": [
    "Si el archivo existe, entonces se toman los datos con los que se va a trabajar. \n",
    "- Las columnas del encabezado se toman en el orden requerido y ademas se ponen en title case.\n",
    "- A los datos se los modifica para su escritura.  \n",
    "\n",
    "Al final se cierra el archivo con el que se trabajó."
   ]
  },
  {
   "cell_type": "code",
   "execution_count": null,
   "id": "64483024",
   "metadata": {},
   "outputs": [],
   "source": [
    "reader=csv.reader(archivo,delimiter =',')\n",
    "a = next(reader) #tomo el encabezado\n",
    "lista = [a[2],a[16],a[3],a[15],a[5],a[1]] #tomo del encabezado las columnas a utilizar\n",
    "        \n",
    "encabezado = list(map(lambda x: x.title(),lista)) #el encabezado se pone en title case \n",
    "\n",
    "#modifico el genero en caso de ser necesario y tomo las columnas requeridas  \n",
    "datos = map(lambda x:([genero_modificado(x[2]),x[16],x[3],x[15],x[5],x[1]]),reader) \n",
    "\n",
    "escribir_archivo_csv(ruta_archivo_escritura,encabezado,datos)\n",
    "\n",
    "archivo.close()"
   ]
  }
 ],
 "metadata": {
  "interpreter": {
   "hash": "7be9405488277c49b44b7d4d24162ce55057ba847f33b14087f0d2ba57d6f9f3"
  },
  "kernelspec": {
   "display_name": "Python 3.10.0 64-bit",
   "language": "python",
   "name": "python3"
  },
  "language_info": {
   "codemirror_mode": {
    "name": "ipython",
    "version": 3
   },
   "file_extension": ".py",
   "mimetype": "text/x-python",
   "name": "python",
   "nbconvert_exporter": "python",
   "pygments_lexer": "ipython3",
   "version": "3.10.0"
  }
 },
 "nbformat": 4,
 "nbformat_minor": 5
}
