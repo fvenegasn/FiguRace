{
 "cells": [
  {
   "cell_type": "markdown",
   "metadata": {},
   "source": [
    "## Modificación del dataset de Lagos"
   ]
  },
  {
   "cell_type": "markdown",
   "metadata": {},
   "source": [
    "#### Se importan los módulos a utilizar, y la ruta del espacio de trabajo"
   ]
  },
  {
   "cell_type": "markdown",
   "metadata": {},
   "source": [
    "* `import csv`: Se importa este módulo para la modificación y/o editar y análisis del dataset mencionado en el título.\n",
    "* `import os`: Se importa este módulo para la llamada a las rutas y directorios que existen en el sistema."
   ]
  },
  {
   "cell_type": "code",
   "execution_count": 2,
   "metadata": {},
   "outputs": [],
   "source": [
    "import csv\n",
    "import os\n",
    "ruta_completa = os.getcwd() "
   ]
  },
  {
   "cell_type": "markdown",
   "metadata": {},
   "source": [
    "### - Transformar las coordenadas en la columna “Coordenadas” a grados decimales."
   ]
  },
  {
   "cell_type": "markdown",
   "metadata": {},
   "source": [
    "#### Las presentes funciones devuelven el decimal de una coordenada pasada como parámetro."
   ]
  },
  {
   "cell_type": "markdown",
   "metadata": {},
   "source": [
    "* **coord_a_decimales**: Esta función recibirá los argumentos enviados por la función *transformar_coordenada* y devolverá, en base a ellos, la coordenada en formato decimal.\n",
    "\n",
    "* **transformar_coordenada**: Esta función tomará, para cada dato de la columna \"Coordenadas\" del dataset importado desde ´csv´ y lo procesará para devolver, mediante la función antes descripta, la cadena resultante de pasar las coordenadas N/S y E/O a decimal."
   ]
  },
  {
   "cell_type": "code",
   "execution_count": 3,
   "metadata": {},
   "outputs": [],
   "source": [
    "def coord_a_decimales (*args):\n",
    "    grados,minutos,segundos = args\n",
    "    return \"{:.3f}\".format(grados + (minutos*(1/60)) + (segundos*(1/3600)))\n",
    "\n",
    "def transformar_coordenada (coordenada):\n",
    "    coordenada = coordenada.replace(\"°\", \" \").replace(\"'\", \" \").replace('\"', \" \")\n",
    "    coordenada = coordenada.split(\" \")\n",
    "    coord1 = map(int,coordenada[:3])\n",
    "    coord2 = map(int,coordenada[4:7])\n",
    "    coord_definitiva = \"-\" + coord_a_decimales(*coord1) + \" / \" + \"-\"+ coord_a_decimales(*coord2)\n",
    "    return coord_definitiva"
   ]
  },
  {
   "cell_type": "markdown",
   "metadata": {},
   "source": [
    "#### Se crea un nuevo archivo, el cual contendrá la información actualizada de acuerdo a lo requerido en el enunciado"
   ]
  },
  {
   "cell_type": "markdown",
   "metadata": {},
   "source": [
    "- En esta parte del código, se crea el archivo que será utilizado en el juego para mostrar los datos de cada tarjeta. En caso de que el archivo ya exista, se lo modificará con el procesamiento que se le dé a partir de esta ejecución"
   ]
  },
  {
   "cell_type": "code",
   "execution_count": 4,
   "metadata": {},
   "outputs": [],
   "source": [
    "dataset_nuevo = \"data_set_lagos.csv\"\n",
    "try:\n",
    "    nuevo_archivo = open(os.path.join(ruta_completa,'..','csv', dataset_nuevo), \"x\", newline=\"\",encoding='utf-8') ## los dos puntos sirven para ir al directorio anterior\n",
    "except FileExistsError:\n",
    "    nuevo_archivo = open(os.path.join(ruta_completa,'..','csv', dataset_nuevo), \"w\", newline=\"\",encoding='utf-8')\n",
    "writer = csv.writer(nuevo_archivo)"
   ]
  },
  {
   "cell_type": "markdown",
   "metadata": {},
   "source": [
    "#### - El archivo resultante deberá tener las siguientes columnas (en este orden específico): “Ubicación”, “Superficie (km²)”, “Profundidad máxima (m)”, “Profundidad media (m)”, “Coordenadas” y “Nombre”."
   ]
  },
  {
   "cell_type": "markdown",
   "metadata": {},
   "source": [
    "- Se utiliza el método .writerow para definir las columnas que tendrá el archivo que utilizará el juego"
   ]
  },
  {
   "cell_type": "code",
   "execution_count": 5,
   "metadata": {},
   "outputs": [
    {
     "data": {
      "text/plain": [
       "92"
      ]
     },
     "execution_count": 5,
     "metadata": {},
     "output_type": "execute_result"
    }
   ],
   "source": [
    "writer.writerow([\"Ubicación\", \"Superficie (km²)\", \"Profundidad máxima (m)\", \"Profundidad media (m)\", \"Coordenadas\", \"Nombre\"])"
   ]
  },
  {
   "cell_type": "markdown",
   "metadata": {},
   "source": [
    "#### Se abre el archivo con los módulos necesarios, dentro de la ruta en la que se encuentra el Dataset."
   ]
  },
  {
   "cell_type": "code",
   "execution_count": 6,
   "metadata": {},
   "outputs": [],
   "source": [
    "dataset= 'Lagos_Argentina_Hoja_1.csv'\n",
    "try:    \n",
    "    archivo = open(os.path.join(ruta_completa,'..','csv', dataset), \"r\", encoding='utf-8')\n",
    "    reader = csv.reader(archivo, delimiter=',')\n",
    "except FileNotFoundError:\n",
    "    print (f\"No se encuentra el archivo {dataset}\")"
   ]
  },
  {
   "cell_type": "markdown",
   "metadata": {},
   "source": [
    "#### Se recorre el dataset, haciendo la conversión a decimal de coordendas y sustituyendo los valores vacíos en las columnas de Profundidades. Por último, se escriben los valores definitivos al nuevo archivo procesado."
   ]
  },
  {
   "cell_type": "code",
   "execution_count": 7,
   "metadata": {},
   "outputs": [],
   "source": [
    "next (reader)\n",
    "in_decimals = []\n",
    "for linea in reader:\n",
    "    coordenada = linea[5]\n",
    "    coordenada_nueva = transformar_coordenada(coordenada)\n",
    "    prof_max = (linea[3] if linea[3]!=\"\" else \"Valor desconocido\")\n",
    "    prof_media = (linea[4] if linea[4]!=\"\" else \"Valor desconocido\")\n",
    "     \n",
    "    writer.writerow([linea[1],linea[2],prof_max,prof_media,coordenada_nueva,linea[0]])"
   ]
  },
  {
   "cell_type": "markdown",
   "metadata": {},
   "source": [
    "#### Se cierran los archivos"
   ]
  },
  {
   "cell_type": "code",
   "execution_count": 8,
   "metadata": {},
   "outputs": [],
   "source": [
    "archivo.close()\n",
    "nuevo_archivo.close()"
   ]
  }
 ],
 "metadata": {
  "kernelspec": {
   "display_name": "Python 3.10.0 64-bit",
   "language": "python",
   "name": "python3"
  },
  "language_info": {
   "codemirror_mode": {
    "name": "ipython",
    "version": 3
   },
   "file_extension": ".py",
   "mimetype": "text/x-python",
   "name": "python",
   "nbconvert_exporter": "python",
   "pygments_lexer": "ipython3",
   "version": "3.10.0"
  },
  "vscode": {
   "interpreter": {
    "hash": "afb734500600fd355917ca529030176ea0ca205570884b88f2f6f7d791fd3fbe"
   }
  }
 },
 "nbformat": 4,
 "nbformat_minor": 2
}
