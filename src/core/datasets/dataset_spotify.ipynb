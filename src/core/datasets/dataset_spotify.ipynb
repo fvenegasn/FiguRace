{
 "cells": [
  {
   "cell_type": "markdown",
   "id": "f8dce6bd",
   "metadata": {},
   "source": [
    "# Modificación del dataset de Spotify"
   ]
  },
  {
   "cell_type": "markdown",
   "id": "6c941839",
   "metadata": {},
   "source": [
    "Importación de módulos a utilizar:"
   ]
  },
  {
   "cell_type": "code",
   "execution_count": 1,
   "id": "4a751a23",
   "metadata": {},
   "outputs": [],
   "source": [
    "import os\n",
    "import csv"
   ]
  },
  {
   "cell_type": "markdown",
   "id": "729bce65",
   "metadata": {},
   "source": [
    "Funciones definidas:"
   ]
  },
  {
   "cell_type": "code",
   "execution_count": 2,
   "id": "bc6205bb",
   "metadata": {},
   "outputs": [],
   "source": [
    "def genero_modificado(genero):\n",
    "    \"\"\"Covierte a mayúscula si es EDM, DFW, UK, R&B o LGBTQ+. Caso contrario convierte a title\"\"\"\n",
    "    x=genero.title()\n",
    "    lista_gen = ['Edm','Dfw','Uk','R&b','Lgbtq+']\n",
    "    \n",
    "    if 'K-pop' in x:\n",
    "        x.replace('K-pop','K-Pop')\n",
    "    \n",
    "    #Busco si en el género global se encuentra alguno de los géneros de lista_gen\n",
    "    for tipo_gen in range(len(lista_gen)):\n",
    "        if lista_gen[tipo_gen] in x:\n",
    "            # Convierto a mayúscula la parte del nombre del género que es alguno de los de lista_gen\n",
    "            x = x.replace(lista_gen[tipo_gen].title(), lista_gen[tipo_gen].upper())\n",
    "    return x"
   ]
  },
  {
   "cell_type": "markdown",
   "id": "bb953f6b",
   "metadata": {},
   "source": [
    "Abro archivo a modificar y creo nuevo archivo:"
   ]
  },
  {
   "cell_type": "code",
   "execution_count": 3,
   "id": "f7974af4",
   "metadata": {},
   "outputs": [],
   "source": [
    "ruta = os.getcwd()\n",
    "arch = 'Spotify 2010 - 2019 Top 100.csv'\n",
    "arch_nuevo = 'data_set_spotify.csv'\n",
    "try:\n",
    "    with open(os.path.join(ruta,'archivos',arch),'r',encoding='utf-8') as archivo:\n",
    "        reader = csv.reader(archivo,delimiter =',')\n",
    "        try:\n",
    "            with open(os.path.join(ruta,'archivos',arch_nuevo),'x',encoding='utf-8') as nuevo:\n",
    "        \n",
    "                a = next(reader) #encabezado\n",
    "                lista = [a[2],a[16],a[3],a[15],a[5],a[1]] #columnas a utilizar\n",
    "        \n",
    "                lista_title = list(map(lambda x: x.title(),lista)) #el encabezado se pone en title case\n",
    "                \n",
    "                nuevo.write(','.join(lista_title)) #se escribe encabezado en el nuevo archivo\n",
    "        \n",
    "                columnas_a_usar = map(lambda x: ','.join([genero_modificado(x[2]),x[16],x[3],x[15],x[5],x[1]]),reader)\n",
    "        \n",
    "                for elem in columnas_a_usar: #se escriben las filas\n",
    "                    nuevo.write('\\n' + elem)\n",
    "        except FileExistsError:\n",
    "            print(f\"El archivo {arch_nuevo} ya existe\")\n",
    "except FileNotFoundError:\n",
    "    print(f\"No se encuentra el archivo {arch}\")"
   ]
  }
 ],
 "metadata": {
  "kernelspec": {
   "display_name": "Python 3 (ipykernel)",
   "language": "python",
   "name": "python3"
  },
  "language_info": {
   "codemirror_mode": {
    "name": "ipython",
    "version": 3
   },
   "file_extension": ".py",
   "mimetype": "text/x-python",
   "name": "python",
   "nbconvert_exporter": "python",
   "pygments_lexer": "ipython3",
   "version": "3.10.4"
  }
 },
 "nbformat": 4,
 "nbformat_minor": 5
}
