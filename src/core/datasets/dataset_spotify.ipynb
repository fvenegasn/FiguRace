{
 "cells": [
  {
   "cell_type": "code",
   "execution_count": 3,
   "id": "f7974af4",
   "metadata": {},
   "outputs": [
    {
     "name": "stdout",
     "output_type": "stream",
     "text": [
      "El archivo data_set_spotify.csv ya existe\n"
     ]
    }
   ],
   "source": [
    "import os\n",
    "import csv\n",
    "\n",
    "\n",
    "def genero_modificado(genero):\n",
    "    \"\"\"Covierte a mayúscula si es EDM, DFW, UK, R&B o LGBTQ+. Caso contrario convierte a title\"\"\"\n",
    "    x=genero.title()\n",
    "    lista_gen = ['Edm','Dfw','Uk','R&b','Lgbtq+']\n",
    "    \n",
    "    if 'K-pop' in x:\n",
    "        x.replace('K-pop','K-Pop')\n",
    "    \n",
    "    #Busco si en el género global se encuentra alguno de los géneros de lista_gen\n",
    "    for tipo_gen in range(len(lista_gen)):\n",
    "        if lista_gen[tipo_gen] in x:\n",
    "            # Convierto a mayúscula la parte del nombre del género que es alguno de los de lista_gen\n",
    "            x = x.replace(lista_gen[tipo_gen].title(), lista_gen[tipo_gen].upper())\n",
    "    return x\n",
    "        \n",
    "ruta = os.getcwd()\n",
    "arch = 'Spotify 2010 - 2019 Top 100.csv'\n",
    "arch_nuevo = 'data_set_spotify.csv'\n",
    "try:\n",
    "    with open(os.path.join(ruta,'archivos',arch),'r',encoding='utf-8') as archivo:\n",
    "        reader = csv.reader(archivo,delimiter =',')\n",
    "        try:\n",
    "            with open(os.path.join(ruta,'archivos',arch_nuevo),'x',encoding='utf-8') as nuevo:\n",
    "        \n",
    "                a = next(reader) #leo encabezado\n",
    "                lista = [a[2],a[16],a[3],a[15],a[5],a[1]]\n",
    "        \n",
    "                lista_title = list(map(lambda x: x.title(),lista))\n",
    "                nuevo.write(','.join(lista_title) + '\\n')\n",
    "        \n",
    "                columnas_a_usar = map(lambda x: ','.join([genero_modificado(x[2]),x[16],x[3],x[15],x[5],x[1]]),reader)\n",
    "        \n",
    "                for elem in columnas_a_usar:\n",
    "                    nuevo.write(elem + '\\n')\n",
    "        except FileExistsError:\n",
    "            print(f\"El archivo {arch_nuevo} ya existe\")\n",
    "except FileNotFoundError:\n",
    "    print(f\"No se encuentra el archivo {arch}\")"
   ]
  }
 ],
 "metadata": {
  "kernelspec": {
   "display_name": "Python 3 (ipykernel)",
   "language": "python",
   "name": "python3"
  },
  "language_info": {
   "codemirror_mode": {
    "name": "ipython",
    "version": 3
   },
   "file_extension": ".py",
   "mimetype": "text/x-python",
   "name": "python",
   "nbconvert_exporter": "python",
   "pygments_lexer": "ipython3",
   "version": "3.10.4"
  }
 },
 "nbformat": 4,
 "nbformat_minor": 5
}
