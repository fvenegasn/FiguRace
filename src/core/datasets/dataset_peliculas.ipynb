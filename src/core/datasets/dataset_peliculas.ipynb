{
 "cells": [
  {
   "cell_type": "markdown",
   "id": "9eec3603",
   "metadata": {},
   "source": [
    "# Modificación del dataset de películas"
   ]
  },
  {
   "cell_type": "markdown",
   "id": "8ac9081c",
   "metadata": {},
   "source": [
    "Importación de módulos a utilizar:"
   ]
  },
  {
   "cell_type": "code",
   "execution_count": 22,
   "id": "88dda874",
   "metadata": {},
   "outputs": [],
   "source": [
    "import os\n",
    "import csv\n",
    "import itertools\n",
    "import string\n",
    "from collections import Counter\n",
    "from functools import reduce\n",
    "import random"
   ]
  },
  {
   "cell_type": "markdown",
   "id": "17e96556",
   "metadata": {},
   "source": [
    "Funciones definidas:"
   ]
  },
  {
   "cell_type": "code",
   "execution_count": 23,
   "id": "cedb5f73",
   "metadata": {},
   "outputs": [],
   "source": [
    "def elijo(n,secuencia):\n",
    "    \"\"\"Retorna una lista de n items elegidos al azar de una secuencia\"\"\"\n",
    "    return random.sample(secuencia,n)"
   ]
  },
  {
   "cell_type": "markdown",
   "id": "55a7ffa4",
   "metadata": {},
   "source": [
    "Se abre archivo con el que se va a trabajar:"
   ]
  },
  {
   "cell_type": "code",
   "execution_count": 24,
   "id": "b3c1794d",
   "metadata": {},
   "outputs": [],
   "source": [
    "ruta=os.getcwd()\n",
    "arch = 'mymoviedb.csv'\n",
    "arch_nuevo = 'data_set_peliculas.csv'\n",
    "try:\n",
    "    with open(os.path.join(ruta,'archivos',arch),'r',encoding='utf-8') as archivo:\n",
    "        reader = csv.reader(archivo,delimiter=',')\n",
    "        \n",
    "        #PRIMERO SE DEBE OBTENER LAS 100 PALABRAS QUE MÁS APARECEN EN LOS OVERVIEWS\n",
    "        \n",
    "        #Además, hay que descartar las películas que no tienen “overview” y las películas cuyo idioma original tenga más de 2 caracteres.\n",
    "        next(reader)\n",
    "        \n",
    "        descarte = filter(lambda x: x[2]!='' and len(x[6])<3,reader)\n",
    "        \n",
    "\n",
    "        #Se separan las palabras de la columna del overview. Quedaría una lista de palabras por línea\n",
    "        overview = map(lambda x: x[2].split(' '),descarte)\n",
    " \n",
    "        #Se agrupan las palabras de todos los overview en una sola lista\n",
    "        palabras_overview = list(itertools.chain.from_iterable(overview))\n",
    "\n",
    "        #Se toman las 100 palabras más comunes de todos los overviews combinados.\n",
    "        top_100 = Counter(palabras_overview).most_common(100)\n",
    "        \n",
    "        #Se obtiene lista de tuplas, donde el primer elemento es la palabra y el segundo las veces que aparece. \n",
    "        #Se obtiene una lista con los elementos pertenecientes a la primera posición de cada tupla.\n",
    "        top_100 = [x[0] for x in top_100]\n",
    "        \n",
    "        #SE OBTUVO LA LISTA TOP_100 DE PALABRAS DE LOS OVERVIEW\n",
    "        \n",
    "        #Creo el nuevo archivo\n",
    "        try:\n",
    "            with open(os.path.join(ruta,'archivos',arch_nuevo),'x',encoding='utf-8') as nuevo:\n",
    "                #Comienzo del archivo original\n",
    "                archivo.seek(0)\n",
    "                \n",
    "                #Se ecribe encabezado en el nuevo archivo\n",
    "                a = next(reader)\n",
    "                lista_encabezado = [a[7],a[6],a[0],a[5],a[2],a[1]]\n",
    "                nuevo.write(','.join(lista_encabezado) + '\\n')\n",
    "                \n",
    "                \n",
    "                #EN EL NUEVO ARCHIVO, LA COLUMNA DEL OVERVIEW NO DEBE POSEER LAS PALABRAS PERTENECIENTES AL TOP_100\n",
    "                #ADEMÁS DEBE TENER HASTA 3 PALABRAS.   \n",
    "                              \n",
    "                while True:\n",
    "                    try:\n",
    "                        \n",
    "                        linea = next(descarte)\n",
    "                        \n",
    "                        #Se obtiene lista de palabras del overview\n",
    "                        palabras_overview = linea[2].split()\n",
    "                        \n",
    "                        #Se eliminan del overview las palabras pertenecientes al top 100\n",
    "                        palabras_sin_top_100 = [x for x in palabras_overview if x.strip(string.punctuation) not in top_100]\n",
    "                        \n",
    "                        try:\n",
    "                            #Se elije en forma aleatoria 3 palabras para cada overview\n",
    "                            columna_overview = elijo(3,palabras_sin_top_100)\n",
    "                        \n",
    "                        #Si el overview filtrado posee menos de 3 será una excepción y se deberán elegir menos.\n",
    "                        except ValueError:\n",
    "                            try:\n",
    "                                columna_overview = elijo(2,palabras_sin_top_100)\n",
    "                       \n",
    "                            except ValueError:\n",
    "                                columna_overview = elijo(1,palabras_sin_top_100)\n",
    "                        finally:\n",
    "                            \n",
    "                            overview = ' '.join(columna_overview)\n",
    "                            \n",
    "                            columnas = \",\".join([linea[7],linea[6],linea[0],linea[5],overview,linea[1]])\n",
    "\n",
    "                            nuevo.write(columnas + '\\n')\n",
    "                    \n",
    "                    except StopIteration:\n",
    "                        break          \n",
    "        \n",
    "        except FileExistsError:\n",
    "            print(f\"El archivo {arch_nuevo} ya existe\")\n",
    "\n",
    "except FileNotFoundError:\n",
    "    print(f\"No se encuentra el archivo {arch}\")\n"
   ]
  }
 ],
 "metadata": {
  "kernelspec": {
   "display_name": "Python 3 (ipykernel)",
   "language": "python",
   "name": "python3"
  },
  "language_info": {
   "codemirror_mode": {
    "name": "ipython",
    "version": 3
   },
   "file_extension": ".py",
   "mimetype": "text/x-python",
   "name": "python",
   "nbconvert_exporter": "python",
   "pygments_lexer": "ipython3",
   "version": "3.10.4"
  }
 },
 "nbformat": 4,
 "nbformat_minor": 5
}
