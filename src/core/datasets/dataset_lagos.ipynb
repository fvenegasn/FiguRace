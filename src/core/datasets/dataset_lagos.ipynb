{
 "cells": [
  {
   "cell_type": "markdown",
   "metadata": {},
   "source": [
    "## Modificación del dataset de Lagos"
   ]
  },
  {
   "cell_type": "markdown",
   "metadata": {},
   "source": [
    "#### Se importan los módulos a utilizar, y la ruta del espacio de trabajo"
   ]
  },
  {
   "cell_type": "code",
   "execution_count": 54,
   "metadata": {},
   "outputs": [],
   "source": [
    "import csv\n",
    "import os\n",
    "ruta_completa = os.getcwd()"
   ]
  },
  {
   "cell_type": "markdown",
   "metadata": {},
   "source": [
    "### - Transformar las coordenadas en la columna “Coordenadas” a grados decimales."
   ]
  },
  {
   "cell_type": "markdown",
   "metadata": {},
   "source": [
    "#### Las presentes funciones devuelven el decimal de una coordenada pasada como parámetro."
   ]
  },
  {
   "cell_type": "code",
   "execution_count": 55,
   "metadata": {},
   "outputs": [],
   "source": [
    "def coord_a_decimales (grados, minutos, segundos):\n",
    "    return \"{:.3f}\".format(grados + (minutos*(1/60)) + (segundos*(1/3600))) \n",
    "\n",
    "def transformar_coordenada (coordenada):\n",
    "    coordenada = coordenada.replace(\"°\", \" \")\n",
    "    coordenada = coordenada.replace(\"'\", \" \")\n",
    "    coordenada = coordenada.replace('\"', \" \")\n",
    "    grados = coordenada.split(\" \")[0]\n",
    "    minutos = coordenada.split(\" \")[1]\n",
    "    segundos = coordenada.split(\" \")[2]\n",
    "    return coord_a_decimales(int(grados), int(minutos), int(segundos))"
   ]
  },
  {
   "cell_type": "markdown",
   "metadata": {},
   "source": [
    "#### Se crea un nuevo archivo, el cual contendrá la información actualizada de acuerdo a lo requerido en el enunciado"
   ]
  },
  {
   "cell_type": "code",
   "execution_count": 56,
   "metadata": {},
   "outputs": [],
   "source": [
    "dataset_nuevo = \"data_set_lagos.csv\"\n",
    "try:\n",
    "    nuevo_archivo = open(os.path.join(ruta_completa, 'archivos', dataset_nuevo), \"x\", newline=\"\",encoding='utf-8')\n",
    "except FileExistsError:\n",
    "    nuevo_archivo = open(os.path.join(ruta_completa, 'archivos', dataset_nuevo), \"w\", newline=\"\",encoding='utf-8')\n",
    "writer = csv.writer(nuevo_archivo)"
   ]
  },
  {
   "cell_type": "markdown",
   "metadata": {},
   "source": [
    "#### - El archivo resultante deberá tener las siguientes columnas (en este orden específico): “Ubicación”, “Superficie (km²)”, “Profundidad máxima (m)”, “Profundidad media (m)”, “Coordenadas” y “Nombre”."
   ]
  },
  {
   "cell_type": "code",
   "execution_count": 57,
   "metadata": {},
   "outputs": [
    {
     "data": {
      "text/plain": [
       "92"
      ]
     },
     "execution_count": 57,
     "metadata": {},
     "output_type": "execute_result"
    }
   ],
   "source": [
    "writer.writerow([\"Ubicación\", \"Superficie (km²)\", \"Profundidad máxima (m)\", \"Profundidad media (m)\", \"Coordenadas\", \"Nombre\"])"
   ]
  },
  {
   "cell_type": "markdown",
   "metadata": {},
   "source": [
    "#### Se abre el archivo con los módulos necesarios, dentro de la ruta en la que se encuentra el Dataset."
   ]
  },
  {
   "cell_type": "code",
   "execution_count": 58,
   "metadata": {},
   "outputs": [],
   "source": [
    "dataset = 'Lagos Argentina - Hoja 1.csv'\n",
    "try:    \n",
    "    archivo = open(os.path.join(ruta_completa, 'archivos', dataset), \"r\", encoding='utf-8')\n",
    "    reader = csv.reader(archivo, delimiter=',')\n",
    "except FileNotFoundError:\n",
    "    print (f\"No se encuentra el archivo {dataset}\")"
   ]
  },
  {
   "cell_type": "markdown",
   "metadata": {},
   "source": [
    "#### Se recorre el dataset, haciendo la conversión a decimal de coordendas y sustituyendo los valores vacíos en las columnas de Profundidades. Por último, se escriben los valores definitivos al nuevo archivo procesado."
   ]
  },
  {
   "cell_type": "code",
   "execution_count": 59,
   "metadata": {},
   "outputs": [],
   "source": [
    "next (reader)\n",
    "for linea in reader:\n",
    "    coordenada_1 = linea[5].split(' ')[0]\n",
    "    coordenada_2 = linea[5].split(' ')[1]\n",
    "    coordenada_1 = transformar_coordenada (coordenada_1)\n",
    "    coordenada_2 = transformar_coordenada (coordenada_2)\n",
    "    prof_max = linea[3]\n",
    "    prof_media = linea[4]\n",
    "    if linea[3] == \"\":\n",
    "        prof_max = linea[3].replace(\"\", \"Valor desconocido\")\n",
    "    if linea[4] == \"\":\n",
    "        prof_media = linea[4].replace(\"\", \"Valor desconocido\")      \n",
    "    writer.writerow([linea[1], linea[2], prof_max, prof_media, str(\"-\" + coordenada_1)+\" / \"+str(\"-\" + coordenada_2), linea[0]])"
   ]
  },
  {
   "cell_type": "markdown",
   "metadata": {},
   "source": [
    "#### Se cierran los archivos"
   ]
  },
  {
   "cell_type": "code",
   "execution_count": 60,
   "metadata": {},
   "outputs": [],
   "source": [
    "archivo.close()\n",
    "nuevo_archivo.close()"
   ]
  }
 ],
 "metadata": {
  "interpreter": {
   "hash": "afb734500600fd355917ca529030176ea0ca205570884b88f2f6f7d791fd3fbe"
  },
  "kernelspec": {
   "display_name": "Python 3.10.0 64-bit",
   "language": "python",
   "name": "python3"
  },
  "language_info": {
   "codemirror_mode": {
    "name": "ipython",
    "version": 3
   },
   "file_extension": ".py",
   "mimetype": "text/x-python",
   "name": "python",
   "nbconvert_exporter": "python",
   "pygments_lexer": "ipython3",
   "version": "3.10.0"
  }
 },
 "nbformat": 4,
 "nbformat_minor": 2
}
